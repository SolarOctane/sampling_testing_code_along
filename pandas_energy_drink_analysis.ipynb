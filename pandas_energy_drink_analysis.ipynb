{
 "cells": [
  {
   "cell_type": "markdown",
   "id": "f5274277",
   "metadata": {},
   "source": [
    "\n",
    "# Code-Along Assignment: Analyzing Experimental Data with Pandas and Simulations\n",
    "\n",
    "In this code-along assignment, you’ll use sample data to answer this question:\n",
    "\n",
    "Does an energy drink help people run faster?\n",
    "\n",
    "You'll work with a CSV file containing run times for a treatment group (drank\n",
    "energy drink) and a control group (did not drink energy drink). You'll use Pandas, NumPy, and SciPy to\n",
    "explore the data and simulate possible outcomes.\n"
   ]
  },
  {
   "cell_type": "markdown",
   "id": "6875fb52",
   "metadata": {},
   "source": [
    "\n",
    "## Scenario\n",
    "\n",
    "The company behind an energy drink called FastFeet says it helps people run faster. You’re given a sample of 200 runners. Half drank the drink, half drank water. Can you prove it works?\n"
   ]
  },
  {
   "cell_type": "markdown",
   "id": "8eb98e5b",
   "metadata": {},
   "source": [
    "## Setup"
   ]
  },
  {
   "cell_type": "code",
   "execution_count": 1,
   "id": "1c5da899",
   "metadata": {},
   "outputs": [],
   "source": [
    "import pandas as pd\n",
    "import numpy as np\n",
    "import matplotlib.pyplot as plt\n",
    "from scipy import stats\n",
    "\n",
    "np.random.seed(0)"
   ]
  },
  {
   "cell_type": "markdown",
   "id": "ade391a1",
   "metadata": {},
   "source": [
    "## Load the Sample Data"
   ]
  },
  {
   "cell_type": "code",
   "execution_count": 2,
   "id": "123d1e1d",
   "metadata": {},
   "outputs": [
    {
     "data": {
      "text/html": [
       "<div>\n",
       "<style scoped>\n",
       "    .dataframe tbody tr th:only-of-type {\n",
       "        vertical-align: middle;\n",
       "    }\n",
       "\n",
       "    .dataframe tbody tr th {\n",
       "        vertical-align: top;\n",
       "    }\n",
       "\n",
       "    .dataframe thead th {\n",
       "        text-align: right;\n",
       "    }\n",
       "</style>\n",
       "<table border=\"1\" class=\"dataframe\">\n",
       "  <thead>\n",
       "    <tr style=\"text-align: right;\">\n",
       "      <th></th>\n",
       "      <th>ParticipantID</th>\n",
       "      <th>Group</th>\n",
       "      <th>RunTimeSeconds</th>\n",
       "    </tr>\n",
       "  </thead>\n",
       "  <tbody>\n",
       "    <tr>\n",
       "      <th>0</th>\n",
       "      <td>C001</td>\n",
       "      <td>Control</td>\n",
       "      <td>352.92</td>\n",
       "    </tr>\n",
       "    <tr>\n",
       "      <th>1</th>\n",
       "      <td>C002</td>\n",
       "      <td>Control</td>\n",
       "      <td>312.00</td>\n",
       "    </tr>\n",
       "    <tr>\n",
       "      <th>2</th>\n",
       "      <td>C003</td>\n",
       "      <td>Control</td>\n",
       "      <td>329.36</td>\n",
       "    </tr>\n",
       "    <tr>\n",
       "      <th>3</th>\n",
       "      <td>C004</td>\n",
       "      <td>Control</td>\n",
       "      <td>367.23</td>\n",
       "    </tr>\n",
       "    <tr>\n",
       "      <th>4</th>\n",
       "      <td>C005</td>\n",
       "      <td>Control</td>\n",
       "      <td>356.03</td>\n",
       "    </tr>\n",
       "  </tbody>\n",
       "</table>\n",
       "</div>"
      ],
      "text/plain": [
       "  ParticipantID    Group  RunTimeSeconds\n",
       "0          C001  Control          352.92\n",
       "1          C002  Control          312.00\n",
       "2          C003  Control          329.36\n",
       "3          C004  Control          367.23\n",
       "4          C005  Control          356.03"
      ]
     },
     "execution_count": 2,
     "metadata": {},
     "output_type": "execute_result"
    }
   ],
   "source": [
    "df = pd.read_csv(\"data/combined_runners.csv\")\n",
    "df.head()"
   ]
  },
  {
   "cell_type": "markdown",
   "id": "0d80ca71",
   "metadata": {},
   "source": [
    "Questions:\n",
    "* How many rows are in the sample? There are five rows.\n",
    "* If `combined_runners.csv` is the sample, what is the population? The participants in both groups.\n",
    "* What is the easiest tool in pandas to check for null values and data types\n",
    "  for our columns? df.info"
   ]
  },
  {
   "cell_type": "markdown",
   "id": "b282c671",
   "metadata": {},
   "source": [
    "\n",
    "## Explore Group Statistics\n",
    "\n",
    "This block of code gives you basic summary statistics for the treatment and\n",
    "control groups. It helps us understand the average times, how spread out they\n",
    "are, and how many people are in each group.  \n",
    "\n",
    "* Control = People who drank water\n",
    "* Treatment = People who drank energy drink\n"
   ]
  },
  {
   "cell_type": "code",
   "execution_count": 4,
   "id": "f79b4d70",
   "metadata": {},
   "outputs": [
    {
     "data": {
      "text/html": [
       "<div>\n",
       "<style scoped>\n",
       "    .dataframe tbody tr th:only-of-type {\n",
       "        vertical-align: middle;\n",
       "    }\n",
       "\n",
       "    .dataframe tbody tr th {\n",
       "        vertical-align: top;\n",
       "    }\n",
       "\n",
       "    .dataframe thead th {\n",
       "        text-align: right;\n",
       "    }\n",
       "</style>\n",
       "<table border=\"1\" class=\"dataframe\">\n",
       "  <thead>\n",
       "    <tr style=\"text-align: right;\">\n",
       "      <th></th>\n",
       "      <th>mean</th>\n",
       "      <th>min</th>\n",
       "      <th>max</th>\n",
       "      <th>count</th>\n",
       "    </tr>\n",
       "    <tr>\n",
       "      <th>Group</th>\n",
       "      <th></th>\n",
       "      <th></th>\n",
       "      <th></th>\n",
       "      <th></th>\n",
       "    </tr>\n",
       "  </thead>\n",
       "  <tbody>\n",
       "    <tr>\n",
       "      <th>Control</th>\n",
       "      <td>301.7941</td>\n",
       "      <td>223.41</td>\n",
       "      <td>368.09</td>\n",
       "      <td>100</td>\n",
       "    </tr>\n",
       "    <tr>\n",
       "      <th>Treatment</th>\n",
       "      <td>297.4604</td>\n",
       "      <td>228.30</td>\n",
       "      <td>366.49</td>\n",
       "      <td>100</td>\n",
       "    </tr>\n",
       "  </tbody>\n",
       "</table>\n",
       "</div>"
      ],
      "text/plain": [
       "               mean     min     max  count\n",
       "Group                                     \n",
       "Control    301.7941  223.41  368.09    100\n",
       "Treatment  297.4604  228.30  366.49    100"
      ]
     },
     "execution_count": 4,
     "metadata": {},
     "output_type": "execute_result"
    }
   ],
   "source": [
    "df.groupby(\"Group\")[\"RunTimeSeconds\"].agg([\"mean\", \"min\", \"max\", \"count\"])"
   ]
  },
  {
   "cell_type": "markdown",
   "id": "78ba86ec",
   "metadata": {},
   "source": [
    "Questions:\n",
    "* What other pandas tools could you use to get information like mean, min, max,\n",
    "  or count?\n",
    "* What does the `.groupby()` function do? \n",
    "* Is there a difference between \n",
    "  `df.groupby(\"Group\")[\"RunTimeSeconds\"].agg([\"mean\"])` and\n",
    "  `df.groupby(\"Group\")[\"RunTimeSeconds\"].mean()` "
   ]
  },
  {
   "cell_type": "markdown",
   "id": "df9f0d05",
   "metadata": {},
   "source": [
    "\n",
    "## Measure the Observed Difference\n",
    "\n",
    "Now we calculate the difference in average run time between the two groups. This will tell us how much faster or slower the treatment group was.\n"
   ]
  },
  {
   "cell_type": "code",
   "execution_count": 6,
   "id": "44c9c2c5",
   "metadata": {},
   "outputs": [
    {
     "name": "stdout",
     "output_type": "stream",
     "text": [
      "Group\n",
      "Control      301.7941\n",
      "Treatment    297.4604\n",
      "Name: RunTimeSeconds, dtype: float64\n"
     ]
    }
   ],
   "source": [
    "means = df.groupby(\"Group\")[\"RunTimeSeconds\"].mean()\n",
    "print(means)"
   ]
  },
  {
   "cell_type": "code",
   "execution_count": 7,
   "id": "ece9b05c",
   "metadata": {},
   "outputs": [
    {
     "name": "stdout",
     "output_type": "stream",
     "text": [
      "-4.333700000000022\n"
     ]
    }
   ],
   "source": [
    "observed_diff = means[\"Treatment\"] - means[\"Control\"]\n",
    "print(observed_diff)"
   ]
  },
  {
   "cell_type": "code",
   "execution_count": 8,
   "id": "0f4513ef",
   "metadata": {},
   "outputs": [
    {
     "name": "stdout",
     "output_type": "stream",
     "text": [
      "Observed Difference (Treatment - Control): -4.333700000000022\n"
     ]
    }
   ],
   "source": [
    "print(\"Observed Difference (Treatment - Control):\", observed_diff)"
   ]
  },
  {
   "cell_type": "markdown",
   "id": "cc339a47",
   "metadata": {},
   "source": [
    "Questions:\n",
    "* Why is `observed_diff` a negative value? What is being measured?\n",
    "* How is `observed_diff` being calculated?\n",
    "* What would an `observed_diff` of 0 mean?\n",
    "* What might it mean if the difference for the treatment group is small but\n",
    "  very consistent (almost all people see a small improvement)\n",
    "* What might it mean if the difference is large in some cases but no difference\n",
    "  in other cases?"
   ]
  },
  {
   "cell_type": "markdown",
   "id": "b368a081",
   "metadata": {},
   "source": [
    "\n",
    "## Perform a t-Test\n",
    "\n",
    "This step checks if the observed difference is statistically significant. A t-test compares the two groups and gives a p-value to help us decide if the difference is likely due to chance.\n"
   ]
  },
  {
   "cell_type": "code",
   "execution_count": 13,
   "id": "4c61424e",
   "metadata": {},
   "outputs": [
    {
     "name": "stdout",
     "output_type": "stream",
     "text": [
      "0     352.92\n",
      "1     312.00\n",
      "2     329.36\n",
      "3     367.23\n",
      "4     356.03\n",
      "       ...  \n",
      "95    321.20\n",
      "96    300.32\n",
      "97    353.58\n",
      "98    303.81\n",
      "99    312.06\n",
      "Name: RunTimeSeconds, Length: 100, dtype: float64\n"
     ]
    }
   ],
   "source": [
    "control = df[df[\"Group\"] == \"Control\"][\"RunTimeSeconds\"]\n",
    "print(control)\n",
    "\n"
   ]
  },
  {
   "cell_type": "code",
   "execution_count": 15,
   "id": "d490790e",
   "metadata": {},
   "outputs": [
    {
     "name": "stdout",
     "output_type": "stream",
     "text": [
      "100    351.49\n",
      "101    254.57\n",
      "102    256.89\n",
      "103    324.08\n",
      "104    259.81\n",
      "        ...  \n",
      "195    289.85\n",
      "196    318.15\n",
      "197    319.71\n",
      "198    359.90\n",
      "199    335.10\n",
      "Name: RunTimeSeconds, Length: 100, dtype: float64\n"
     ]
    }
   ],
   "source": [
    "treatment = df[df[\"Group\"] == \"Treatment\"][\"RunTimeSeconds\"]\n",
    "print(treatment)"
   ]
  },
  {
   "cell_type": "code",
   "execution_count": 16,
   "id": "a1e15011",
   "metadata": {},
   "outputs": [],
   "source": [
    "t_stat, p_val = stats.ttest_ind(treatment, control)"
   ]
  },
  {
   "cell_type": "code",
   "execution_count": 17,
   "id": "f8605ed8",
   "metadata": {},
   "outputs": [
    {
     "name": "stdout",
     "output_type": "stream",
     "text": [
      "T-statistic: -0.9950943610332018\n",
      "p-value: 0.32090490597475396\n"
     ]
    }
   ],
   "source": [
    "print(\"T-statistic:\", t_stat)\n",
    "print(\"p-value:\", p_val)"
   ]
  },
  {
   "cell_type": "markdown",
   "id": "4f96bcc2",
   "metadata": {},
   "source": [
    "Questions:\n",
    "* What are we trying to test in the above example? What information do we want\n",
    "  to know?\n",
    "* What is the control group and what purpose does it serve?\n",
    "* What is the treatment group and what purpose does it serve?\n",
    "* What information does a p-value give us?\n",
    "* What information does the test statistic give us?\n",
    "  "
   ]
  },
  {
   "cell_type": "markdown",
   "id": "edb32379",
   "metadata": {},
   "source": [
    "\n",
    "## Simulate the Effect of Two Drinks\n",
    "\n",
    "If one energy drink helps, what happens if a person drinks two? This section creates a new dataset where the treatment group gets an extra boost equal to the original improvement.\n"
   ]
  },
  {
   "cell_type": "code",
   "execution_count": 18,
   "id": "da7fcfc5",
   "metadata": {},
   "outputs": [],
   "source": [
    "df_two_drinks = df.copy()"
   ]
  },
  {
   "cell_type": "code",
   "execution_count": 19,
   "id": "1c93a893",
   "metadata": {},
   "outputs": [],
   "source": [
    "boost = abs(observed_diff)"
   ]
  },
  {
   "cell_type": "code",
   "execution_count": 20,
   "id": "13da13a9",
   "metadata": {},
   "outputs": [],
   "source": [
    "df_two_drinks.loc[df_two_drinks[\"Group\"] == \"Treatment\", \"RunTimeSeconds\"] -= boost"
   ]
  },
  {
   "cell_type": "code",
   "execution_count": 21,
   "id": "36ee6ca1",
   "metadata": {},
   "outputs": [
    {
     "name": "stdout",
     "output_type": "stream",
     "text": [
      "New Observed Difference (2 Drinks): -8.667400000000214\n"
     ]
    }
   ],
   "source": [
    "means_2x = df_two_drinks.groupby(\"Group\")[\"RunTimeSeconds\"].mean()\n",
    "observed_diff_2x = means_2x[\"Treatment\"] - means_2x[\"Control\"]\n",
    "print(\"New Observed Difference (2 Drinks):\", observed_diff_2x)"
   ]
  },
  {
   "cell_type": "markdown",
   "id": "01568d88",
   "metadata": {},
   "source": [
    "Questions:\n",
    "\n",
    "* Why do we use `abs(observed_diff)` in this scenario? Hint: (`abs()` will\n",
    "  always return positive value)\n",
    "* What assumptions are we making by applying the same speed \"boost\" to runners\n",
    "  with two energy drinks? Is the reasonable in the real world? Would three\n",
    "  energy drinks give you three times the speed boosting effect?\n",
    "* Why might simulating two drinks be useful even if no one in the sample drank two?\n"
   ]
  },
  {
   "cell_type": "markdown",
   "id": "89e107c7",
   "metadata": {},
   "source": [
    "\n",
    "## Visualize the Two-Drink Effect\n",
    "\n",
    "This section shows histograms of both the control group and the treatment group after simulating a second drink.\n"
   ]
  },
  {
   "cell_type": "code",
   "execution_count": 22,
   "id": "7d3d2add",
   "metadata": {},
   "outputs": [
    {
     "data": {
      "text/plain": [
       "<matplotlib.legend.Legend at 0x7fec9c7b0be0>"
      ]
     },
     "execution_count": 22,
     "metadata": {},
     "output_type": "execute_result"
    },
    {
     "data": {
      "image/png": "[encoded data removed]",
      "text/plain": [
       "<Figure size 432x288 with 1 Axes>"
      ]
     },
     "metadata": {
      "needs_background": "light"
     },
     "output_type": "display_data"
    }
   ],
   "source": [
    "plt.hist(df[\"RunTimeSeconds\"][df[\"Group\"] == \"Control\"], alpha=0.4, label=\"Control\", edgecolor=\"black\")\n",
    "plt.hist(df_two_drinks[\"RunTimeSeconds\"][df_two_drinks[\"Group\"] == \"Treatment\"], alpha=0.4, label=\"Treatment (2 Drinks)\", edgecolor=\"black\")\n",
    "plt.xlabel(\"Run Time (seconds)\")\n",
    "plt.ylabel(\"Number of Runners\")\n",
    "plt.ylim(0, 25) # Added to avoid overlap of legend\n",
    "plt.title(\"Simulated Effect of Two Energy Drinks\")\n",
    "plt.legend()\n",
    "\n"
   ]
  },
  {
   "cell_type": "markdown",
   "id": "c912b038",
   "metadata": {},
   "source": [
    "Questions:\n",
    "\n",
    "* What do we notic about the shapes of the above overlapped histograms? What\n",
    "  might these histograms tell us about the energy drink and runners?\n",
    "* What other visualization would show us the distribution of the two groups,\n",
    "  but would also include information about outliers in the plot?\n",
    "\n"
   ]
  },
  {
   "cell_type": "markdown",
   "id": "8bea7f57",
   "metadata": {},
   "source": [
    "\n",
    "## Final Reflection\n",
    "\n",
    "Answer the following questions in markdown cells in your notebook:\n",
    "\n",
    "* What is a sample, and why do we use it in experiments?\n",
    "* Did the energy drink improve run times based on the sample?\n",
    "* What happened when you simulated a second drink?\n",
    "* Based on your analysis, would you recommend this product?\n"
   ]
  },
  {
   "cell_type": "markdown",
   "id": "8fee32f9",
   "metadata": {},
   "source": [
    "Questions:\n",
    "* What role does simulation of two energy drinks above serve?"
   ]
  },
  {
   "cell_type": "markdown",
   "id": "7c9ac791",
   "metadata": {},
   "source": [
    "\n",
    "## Deliverables\n",
    "\n",
    "* A Jupyter Notebook titled `pandas_energy_drink_analysis.ipynb` that includes:\n",
    "\n",
    "  * All code cells and printed outputs\n",
    "  * Answers to each markdown question\n",
    "  * A short conclusion at the end: Does FastFeet help runners?\n",
    "\n",
    "* Push your notebook to your GitHub repository and submit the link\n"
   ]
  }
 ],
 "metadata": {
  "kernelspec": {
   "display_name": "base",
   "language": "python",
   "name": "python3"
  },
  "language_info": {
   "codemirror_mode": {
    "name": "ipython",
    "version": 3
   },
   "file_extension": ".py",
   "mimetype": "text/x-python",
   "name": "python",
   "nbconvert_exporter": "python",
   "pygments_lexer": "ipython3",
   "version": "3.8.8"
  }
 },
 "nbformat": 4,
 "nbformat_minor": 5
}
